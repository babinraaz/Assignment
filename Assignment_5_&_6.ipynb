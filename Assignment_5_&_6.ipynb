{
  "nbformat": 4,
  "nbformat_minor": 0,
  "metadata": {
    "colab": {
      "name": "Assignment 5 & 6.ipynb",
      "provenance": [],
      "authorship_tag": "ABX9TyNjc1pELc2brTDtCfhR/x5b",
      "include_colab_link": true
    },
    "kernelspec": {
      "name": "python3",
      "display_name": "Python 3"
    },
    "language_info": {
      "name": "python"
    }
  },
  "cells": [
    {
      "cell_type": "markdown",
      "metadata": {
        "id": "view-in-github",
        "colab_type": "text"
      },
      "source": [
        "<a href=\"https://colab.research.google.com/github/babinraaz/Assignment/blob/main/Assignment_5_%26_6.ipynb\" target=\"_parent\"><img src=\"https://colab.research.google.com/assets/colab-badge.svg\" alt=\"Open In Colab\"/></a>"
      ]
    },
    {
      "cell_type": "markdown",
      "metadata": {
        "id": "zmqAFL43o-HH"
      },
      "source": [
        ">**Python for Data Science and Machine Learning Course**\n",
        "\n",
        "**Homework Assignment 5**\n",
        "\n",
        "**Topic: File Handling**"
      ]
    },
    {
      "cell_type": "markdown",
      "metadata": {
        "id": "HKAIVDIDpVGn"
      },
      "source": [
        "**Exercise 4:** Download a copy of the file www.py4e.com/code3/romeo.txt.\n",
        "\n",
        "Write a program to open the file romeo.txt and read it line by line. For\n",
        "\n",
        "each line, split the line into a list of words using the split function.\n",
        "\n",
        "For each word, check to see if the word is already in a list. If the word\n",
        "\n",
        "is not in the list, add it to the list. When the program completes, sort\n",
        "\n",
        "and print the resulting words in alphabetical order.\n",
        "\n",
        "Enter file: romeo.txt\n",
        "\n",
        "['Arise', 'But', 'It', 'Juliet', 'Who', 'already',\n",
        "\n",
        "'and', 'breaks', 'east', 'envious', 'fair', 'grief',\n",
        "\n",
        "'is', 'kill', 'light', 'moon', 'pale', 'sick', 'soft',\n",
        "\n",
        "'sun', 'the', 'through', 'what', 'window',\n",
        "\n",
        "'with', 'yonder']"
      ]
    },
    {
      "cell_type": "code",
      "metadata": {
        "colab": {
          "resources": {
            "http://localhost:8080/nbextensions/google.colab/files.js": {
              "data": "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",
              "ok": true,
              "headers": [
                [
                  "content-type",
                  "application/javascript"
                ]
              ],
              "status": 200,
              "status_text": ""
            }
          },
          "base_uri": "https://localhost:8080/",
          "height": 143
        },
        "id": "2SlDwmGVpTw-",
        "outputId": "e24cf0b3-ce3c-49e9-c551-5cb635b99f6d"
      },
      "source": [
        "#get file name from user and store it in file_name\n",
        "from google.colab import files\n",
        "\n",
        "if input(\"Do you wanna upload file (y/n): \") == 'y':\n",
        "  #upload file to the google server\n",
        "  uploaded = files.upload()\n",
        "\n",
        "#get file name from the user\n",
        "fname = input(\"Enter File Name: \")\n",
        "#opens the designation file\n",
        "fhand = open(fname)\n",
        "#declare list\n",
        "lst =list()\n",
        "#for loop to get one lin at a time \n",
        "for line in fhand:\n",
        "  # to remove unwanted white spaces\n",
        "  word = line.rstrip()\n",
        "  # Breaks down the lines to words\n",
        "  word = line.split()\n",
        "  # check every element in line \n",
        "  for element in word:\n",
        "    # if element is repeated   \n",
        "    if element not in lst:\n",
        "      lst.append(element)\n",
        "# sorting the list with ASCII\n",
        "lst.sort()\n",
        "#display                         \n",
        "print (lst)                    "
      ],
      "execution_count": 3,
      "outputs": [
        {
          "name": "stdout",
          "output_type": "stream",
          "text": [
            "Do you wanna upload file (y/n): y\n"
          ]
        },
        {
          "output_type": "display_data",
          "data": {
            "text/html": [
              "\n",
              "     <input type=\"file\" id=\"files-0021c17b-b215-49e9-ba5b-4d751655eb7b\" name=\"files[]\" multiple disabled\n",
              "        style=\"border:none\" />\n",
              "     <output id=\"result-0021c17b-b215-49e9-ba5b-4d751655eb7b\">\n",
              "      Upload widget is only available when the cell has been executed in the\n",
              "      current browser session. Please rerun this cell to enable.\n",
              "      </output>\n",
              "      <script src=\"/nbextensions/google.colab/files.js\"></script> "
            ],
            "text/plain": [
              "<IPython.core.display.HTML object>"
            ]
          },
          "metadata": {}
        },
        {
          "output_type": "stream",
          "name": "stdout",
          "text": [
            "Saving romeo.txt to romeo (1).txt\n",
            "Enter File Name: romeo.txt\n",
            "['Arise', 'But', 'It', 'Juliet', 'Who', 'already', 'and', 'breaks', 'east', 'envious', 'fair', 'grief', 'is', 'kill', 'light', 'moon', 'pale', 'sick', 'soft', 'sun', 'the', 'through', 'what', 'window', 'with', 'yonder']\n"
          ]
        }
      ]
    },
    {
      "cell_type": "markdown",
      "metadata": {
        "id": "jy48-kxQZS6_"
      },
      "source": [
        "**Exercise 5:** Write a program to read through the mail box data and \n",
        "when you find line that starts with “From”, you will split the line into words using the split function. We are interested in who sent the \n",
        "message, which is the second word on the From line.\n",
        "\n",
        "From stephen.marquard@uct.ac.za Sat Jan 5 09:14:16 2008\n",
        "\n",
        "You will parse the From line and print out the second word for each \n",
        "From line, then you will also count the number of From (not From:) \n",
        "lines and print out a count at the end. This is a good sample output \n",
        "with a few lines removed:\n",
        "python fromcount.py\n",
        "\n",
        "Enter a file name: mbox-short.txt\n",
        "\n",
        "stephen.marquard@uct.ac.za\n",
        "\n",
        "louis@media.berkeley.edu\n",
        "\n",
        "zqian@umich.edu\n",
        "\n",
        "[...some output removed...]\n",
        "\n",
        "ray@media.berkeley.edu\n",
        "\n",
        "cwen@iupui.edu\n",
        "\n",
        "cwen@iupui.edu\n",
        "\n",
        "cwen@iupui.edu\n",
        "\n",
        "There were 27 lines in the file with From as the first word"
      ]
    },
    {
      "cell_type": "code",
      "metadata": {
        "colab": {
          "base_uri": "https://localhost:8080/"
        },
        "id": "5__y9kc_oD33",
        "outputId": "9f3e0b9f-2e64-46cd-a110-2d27af5ace8c"
      },
      "source": [
        "#Import necessry files to import files to google server\n",
        "from google.colab import files\n",
        "# Ask user to upload file or not  \n",
        "if input(\"Do you want to import files (y/n): \") == 'y':\n",
        "  # Upload selected files\n",
        "  uploaded = files.upload()\n",
        "# While Loop \n",
        "while True:\n",
        "  # Execute to check file is available\n",
        "  try:\n",
        "    fname = input(\"Enter the file name: \")\n",
        "    fhand = open(fname)\n",
        "    break\n",
        "  #Execute if open functions throws errpr\n",
        "  except:\n",
        "    print(\"File not found in directory.\")\n",
        "\n",
        "count = 0\n",
        "#declare dictionary\n",
        "c= dict()\n",
        "#Get each line at a time \n",
        "for line in fhand:\n",
        "  #Get each words\n",
        "  words = line.split()\n",
        "  #Check if the word length is less than 3  and is equal  to 'from'  \n",
        "  if len(words) < 3 or words[0] != 'From':\n",
        "    continue\n",
        "  #print word element from 2nd postion  \n",
        "  print(words[1])\n",
        "  #Count the number of lines that starts 'From'\n",
        "  count += 1\n",
        " #Display \n",
        "print(f\"There were {count} lines in the file with From as the first word\")\n",
        "\n",
        "\n",
        "\n"
      ],
      "execution_count": 23,
      "outputs": [
        {
          "output_type": "stream",
          "name": "stdout",
          "text": [
            "Do you want to import files (y/n): n\n",
            "Enter the file name: df\n",
            "File not found in directory.\n",
            "Enter the file name: sdf\n",
            "File not found in directory.\n",
            "Enter the file name: mbox-short.txt\n",
            "stephen.marquard@uct.ac.za\n",
            "louis@media.berkeley.edu\n",
            "zqian@umich.edu\n",
            "rjlowe@iupui.edu\n",
            "zqian@umich.edu\n",
            "rjlowe@iupui.edu\n",
            "cwen@iupui.edu\n",
            "cwen@iupui.edu\n",
            "gsilver@umich.edu\n",
            "gsilver@umich.edu\n",
            "zqian@umich.edu\n",
            "gsilver@umich.edu\n",
            "wagnermr@iupui.edu\n",
            "zqian@umich.edu\n",
            "antranig@caret.cam.ac.uk\n",
            "gopal.ramasammycook@gmail.com\n",
            "david.horwitz@uct.ac.za\n",
            "david.horwitz@uct.ac.za\n",
            "david.horwitz@uct.ac.za\n",
            "david.horwitz@uct.ac.za\n",
            "stephen.marquard@uct.ac.za\n",
            "louis@media.berkeley.edu\n",
            "louis@media.berkeley.edu\n",
            "ray@media.berkeley.edu\n",
            "cwen@iupui.edu\n",
            "cwen@iupui.edu\n",
            "cwen@iupui.edu\n",
            "There were 27 lines in the file with From as the first word\n"
          ]
        }
      ]
    },
    {
      "cell_type": "markdown",
      "metadata": {
        "id": "LoZLqKSstaAL"
      },
      "source": [
        "**Exercise 6:** Rewrite the program that prompts the user for a list of\n",
        "\n",
        "numbers and prints out the maximum and minimum of the numbers at\n",
        "\n",
        "the end when the user enters “done”. Write the program to store the\n",
        "\n",
        "numbers the user enters in a list and use the max() and min() functions to\n",
        "\n",
        "compute the maximum and minimum numbers after the loop completes.\n",
        "\n",
        "Enter a number: 6\n",
        "\n",
        "Enter a number: 2\n",
        "\n",
        "Enter a number: 9\n",
        "\n",
        "Enter a number: 3\n",
        "\n",
        "Enter a number: 5\n",
        "\n",
        "Enter a number: done\n",
        "\n",
        "Maximum: 9.0\n",
        "\n",
        "Minimum: 2.0"
      ]
    },
    {
      "cell_type": "code",
      "metadata": {
        "colab": {
          "base_uri": "https://localhost:8080/"
        },
        "id": "pUMo_HdrDUsQ",
        "outputId": "11a657da-e437-489b-d1e2-25ed291035c5"
      },
      "source": [
        "#Declaring the list\n",
        "lst=[]\n",
        "# while loop to take data from user until done\n",
        "while True:\n",
        "  # Get data from the user\n",
        "  in_data = input('Enter Number: ')\n",
        "  # Check if the input data matches 'done'\n",
        "  if in_data.lower() == 'done':\n",
        "    #exit from while loop\n",
        "    break\n",
        "  #checks if the command throws error and executes\n",
        "  try:\n",
        "    #adds the float number in the end of the list\n",
        "    lst.append(float(in_data))\n",
        "  #executs when try throws error\n",
        "  except:\n",
        "    #Display invalid number\n",
        "    print('Invalid Error!!\\n !! ONLY NUMBERS !!')\n",
        "    #continues loop\n",
        "    continue  \n",
        "#display\n",
        "#Uses inbuilt function of list to get maximum number\n",
        "print('Maximum number: ', max(lst))\n",
        "#users inbuilt function of list to get minimum number\n",
        "print('Minimum number: ', min(lst))"
      ],
      "execution_count": 7,
      "outputs": [
        {
          "output_type": "stream",
          "name": "stdout",
          "text": [
            "Enter Number5\n",
            "Enter Number7\n",
            "Enter Number8\n",
            "Enter Number0\n",
            "Enter Number1\n",
            "Enter Number5\n",
            "Enter Number6\n",
            "Enter Number8\n",
            "Enter Numberdone\n",
            "Maximum number:  8.0\n",
            "Minimum number:  0.0\n"
          ]
        }
      ]
    },
    {
      "cell_type": "markdown",
      "metadata": {
        "id": "lLFOl42_oHin"
      },
      "source": [
        ">**Python for Data Science and Machine Learning Course**\n",
        "\n",
        "**Homework Assignment 6**\n",
        "\n",
        "**Topic: Dictionaries**"
      ]
    },
    {
      "cell_type": "markdown",
      "metadata": {
        "id": "CD6glL4ZSDBe"
      },
      "source": [
        "**Exercise 1:** Write a program that categorizes each mail message by which day of the week the commit was done. To do this look for lines that start with “From”, then look for the third word and keep a running count of each of the days of the week. At the end of the program print out the contents of your dictionary (order does not matter).\n",
        "\n",
        "Sample Line:\n",
        "\n",
        "From stephen.marquard@uct.ac.za Sat Jan 5 09:14:16 2008\n",
        "\n",
        "Sample Execution:\n",
        "\n",
        "python dow.py\n",
        "\n",
        "Enter a file name: mbox-short.txt\n",
        "\n",
        "{'Fri': 20, 'Thu': 6, 'Sat': 1}"
      ]
    },
    {
      "cell_type": "code",
      "metadata": {
        "colab": {
          "base_uri": "https://localhost:8080/"
        },
        "id": "kHwwpcvOFhFj",
        "outputId": "bc255b57-6ac8-473f-e1df-56ad930f3d43"
      },
      "source": [
        "#Import necessry files to import files to google server\n",
        "from google.colab import files\n",
        "# Ask user to upload file or not  \n",
        "if input(\"Do you want to import files (y/n): \") == 'y':\n",
        "  # Upload selected files\n",
        "  uploaded = files.upload()\n",
        "# While Loop \n",
        "while True:\n",
        "  # Execute to check file is available\n",
        "  try:\n",
        "    fname = input(\"Enter the file name: \")\n",
        "    fhand = open(fname)\n",
        "    break\n",
        "  #Execute if open functions throws errpr\n",
        "  except:\n",
        "    print(\"File not found in directory.\")\n",
        "\n",
        "#declare dictionary\n",
        "c= dict()\n",
        "#Get each line at a time \n",
        "for line in fhand:\n",
        "  #Get each words\n",
        "  words = line.split()\n",
        "  #Check if the word length is less than 3  and is equal  to 'from'  \n",
        "  if len(words) < 3 or words[0] != 'From':\n",
        "    continue\n",
        "  else:\n",
        "    # First entry of day\n",
        "    if words[2] not in c:\n",
        "      #count\n",
        "      c[words[2]] = 1   \n",
        "    # Additional counts of day   \n",
        "    else:\n",
        "      #count\n",
        "      c[words[2]] += 1      \n",
        "\n",
        " #Display \n",
        "print(c)\n",
        "\n",
        "\n"
      ],
      "execution_count": 74,
      "outputs": [
        {
          "output_type": "stream",
          "name": "stdout",
          "text": [
            "Do you want to import files (y/n): n\n",
            "Enter the file name: mbox-short.txt\n",
            "{'Sat': 1, 'Fri': 20, 'Thu': 6}\n"
          ]
        }
      ]
    },
    {
      "cell_type": "markdown",
      "metadata": {
        "id": "16NAblaazJl4"
      },
      "source": [
        "**Exercise 2:** Write a program to read through a mail log, build a histogram using a dictionary to count how many messages have come from each email address, and print the dictionary.\n",
        "\n",
        "Enter file name: mbox-short.txt\n",
        "\n",
        "{'gopal.ramasammycook@gmail.com': 1, 'louis@media.berkeley.edu': 3,\n",
        "\n",
        "'cwen@iupui.edu': 5, 'antranig@caret.cam.ac.uk': 1,\n",
        "\n",
        "'rjlowe@iupui.edu': 2, 'gsilver@umich.edu': 3,\n",
        "\n",
        "'david.horwitz@uct.ac.za': 4, 'wagnermr@iupui.edu': 1,\n",
        "\n",
        "'zqian@umich.edu': 4, 'stephen.marquard@uct.ac.za': 2,\n",
        "\n",
        "'ray@media.berkeley.edu': 1}"
      ]
    },
    {
      "cell_type": "code",
      "metadata": {
        "colab": {
          "base_uri": "https://localhost:8080/"
        },
        "id": "KfNKiYqNGQO9",
        "outputId": "666fbf60-da21-4227-fd11-a5d5e76987d9"
      },
      "source": [
        "#Import necessry files to import files to google server\n",
        "from google.colab import files\n",
        "# Ask user to upload file or not  \n",
        "if input(\"Do you want to import files (y/n): \") == 'y':\n",
        "  # Upload selected files\n",
        "  uploaded = files.upload()\n",
        "# While Loop \n",
        "while True:\n",
        "  # Execute to check file is available\n",
        "  try:\n",
        "    fname = input(\"Enter the file name: \")\n",
        "    fhand = open(fname)\n",
        "    break\n",
        "  #Execute if open functions throws errpr\n",
        "  except:\n",
        "    print(\"File not found in directory.\")\n",
        "\n",
        "#declare dictionary\n",
        "c= dict()\n",
        "#Get each line at a time \n",
        "for line in fhand:\n",
        "  #Get each words\n",
        "  words = line.split()\n",
        "  #Check if the word length is less than 3  and is equal  to 'from'  \n",
        "  if len(words) < 3 or words[0] != 'From':\n",
        "    continue\n",
        "  else:\n",
        "    # For First entry of email\n",
        "    if words[1] not in c:\n",
        "      #count\n",
        "        c[words[1]] = 1       \n",
        "    # For Additional counts of existing emails\n",
        "    else:\n",
        "      #count\n",
        "        c[words[1]] += 1      \n",
        "#Display \n",
        "print(c)\n"
      ],
      "execution_count": 12,
      "outputs": [
        {
          "output_type": "stream",
          "name": "stdout",
          "text": [
            "Do you want to import files (y/n): n\n",
            "Enter the file name: mbox-short.txt\n",
            "{'stephen.marquard@uct.ac.za': 2, 'louis@media.berkeley.edu': 3, 'zqian@umich.edu': 4, 'rjlowe@iupui.edu': 2, 'cwen@iupui.edu': 5, 'gsilver@umich.edu': 3, 'wagnermr@iupui.edu': 1, 'antranig@caret.cam.ac.uk': 1, 'gopal.ramasammycook@gmail.com': 1, 'david.horwitz@uct.ac.za': 4, 'ray@media.berkeley.edu': 1}\n"
          ]
        }
      ]
    },
    {
      "cell_type": "markdown",
      "metadata": {
        "id": "Pj0p_7XA8hJC"
      },
      "source": [
        "Exercise 3: Add code to the above program to figure out who has the most messages in the file. After all the data has been read and the dictionary has been created, look through the dictionary using a maximum loop (see Chapter 5: Maximum and minimum loops) to find who has the most messages and print how many messages the person has.\n",
        "\n",
        "Enter a file name: mbox-short.txt\n",
        "\n",
        "cwen@iupui.edu 5\n",
        "\n",
        "Enter a file name: mbox.txt\n",
        "\n",
        "zqian@umich.edu 195"
      ]
    },
    {
      "cell_type": "code",
      "metadata": {
        "colab": {
          "base_uri": "https://localhost:8080/"
        },
        "id": "0KunLfSe9wXx",
        "outputId": "63d46131-3ebc-4d1c-c72a-3e743773caa3"
      },
      "source": [
        "#Import necessry files to import files to google server\n",
        "from google.colab import files\n",
        "# Ask user to upload file or not  \n",
        "if input(\"Do you want to import files (y/n): \") == 'y':\n",
        "  # Upload selected files\n",
        "  uploaded = files.upload()\n",
        "# While Loop \n",
        "while True:\n",
        "  # Execute to check file is available\n",
        "  try:\n",
        "    fname = input(\"Enter the file name: \")\n",
        "    fhand = open(fname)\n",
        "    break\n",
        "  #Execute if open functions throws errpr\n",
        "  except:\n",
        "    print(\"File not found in directory.\")\n",
        "maximum = 0\n",
        "#declare dictionary\n",
        "c= dict()\n",
        "#Get each line at a time \n",
        "for line in fhand:\n",
        "  #Get each words\n",
        "  words = line.split()\n",
        "  #Check if the word length is less than 3  and is equal  to 'from'  \n",
        "  if len(words) < 3 or words[0] != 'From':\n",
        "    continue\n",
        "  else:\n",
        "    # For First entry of email\n",
        "    if words[1] not in c:\n",
        "      #count\n",
        "        c[words[1]] = 1       \n",
        "    # For Additional counts of existing emails\n",
        "    else:\n",
        "      #count\n",
        "        c[words[1]] += 1      \n",
        "# To get Maximum value\n",
        "for max_num in c:\n",
        "  if c[max_num] > maximum:\n",
        "    #store value\n",
        "    maximum = c[max_num]\n",
        "    #Store address\n",
        "    max_add = max_num\n",
        "  \n",
        "#Display \n",
        "print(max_add, maximum)"
      ],
      "execution_count": 20,
      "outputs": [
        {
          "output_type": "stream",
          "name": "stdout",
          "text": [
            "Do you want to import files (y/n): n\n",
            "Enter the file name: mbox-short.txt\n",
            "cwen@iupui.edu 5\n"
          ]
        }
      ]
    },
    {
      "cell_type": "markdown",
      "metadata": {
        "id": "ydP_J5_cEhIi"
      },
      "source": [
        "**Exercise 4:** This program records the domain name (instead of the address) where the message was sent from instead of who the mail came from (i.e., the whole email address). At the end of the program, print out the contents of your dictionary.\n",
        "\n",
        "python schoolcount.py\n",
        "\n",
        "Enter a file name: mbox-short.txt\n",
        "\n",
        "{'media.berkeley.edu': 4, 'uct.ac.za': 6, 'umich.edu': 7,\n",
        "\n",
        "'gmail.com': 1, 'caret.cam.ac.uk': 1, 'iupui.edu': 8}"
      ]
    },
    {
      "cell_type": "code",
      "metadata": {
        "colab": {
          "base_uri": "https://localhost:8080/"
        },
        "id": "UocAbI-8EnUg",
        "outputId": "f7c9547f-55e0-4074-d33e-62c08e78b2e1"
      },
      "source": [
        "#Import necessry files to import files to google server\n",
        "from google.colab import files\n",
        "# Ask user to upload file or not  \n",
        "if input(\"Do you want to import files (y/n): \") == 'y':\n",
        "  # Upload selected files\n",
        "  uploaded = files.upload()\n",
        "# While Loop \n",
        "while True:\n",
        "  # Execute to check file is available\n",
        "  try:\n",
        "    fname = input(\"Enter the file name: \")\n",
        "    fhand = open(fname)\n",
        "    break\n",
        "  #Execute if open functions throws errpr\n",
        "  except:\n",
        "    print(\"File not found in directory.\")\n",
        "\n",
        "#declare\n",
        "d_name ={}\n",
        "d_table = []\n",
        "#Get each line at a time \n",
        "for line in fhand:\n",
        "  #Get each words\n",
        "  d_table = line.split()\n",
        "  #Check if the word length is more than 3 and begins with 'From'  \n",
        "  if len(d_table) > 3 and line.startswith('From'):\n",
        "    #Stores 2nd postion from the line and stores in email\n",
        "    email = d_table[1]\n",
        "    #stores values after @ and stores in sec_1\n",
        "    sec_1 =(email[email.find(\"@\"):])\n",
        "    #stores values after 2nd postition\n",
        "    sec_2 = sec_1[1:]\n",
        "    # First entry of day\n",
        "    if sec_2 not in d_name:\n",
        "      #count\n",
        "      d_name[sec_2] = 1   \n",
        "    # Additional counts of day   \n",
        "    else:\n",
        "      #count\n",
        "      d_name[sec_2] += 1      \n",
        "\n",
        " #Display \n",
        "print(d_name)"
      ],
      "execution_count": 28,
      "outputs": [
        {
          "output_type": "stream",
          "name": "stdout",
          "text": [
            "Do you want to import files (y/n): n\n",
            "Enter the file name: mbox-short.txt\n",
            "{'uct.ac.za': 6, 'media.berkeley.edu': 4, 'umich.edu': 7, 'iupui.edu': 8, 'caret.cam.ac.uk': 1, 'gmail.com': 1}\n"
          ]
        }
      ]
    },
    {
      "cell_type": "code",
      "metadata": {
        "id": "85pNQLDpZ377"
      },
      "source": [
        ""
      ],
      "execution_count": null,
      "outputs": []
    }
  ]
}